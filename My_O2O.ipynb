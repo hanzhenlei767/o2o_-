{
 "cells": [
  {
   "cell_type": "code",
   "execution_count": 1,
   "metadata": {},
   "outputs": [],
   "source": [
    "import numpy as np\n",
    "import pandas as pd\n",
    "import seaborn as sns\n",
    "import matplotlib.pyplot as plt\n",
    "\n",
    "from datetime import datetime\n",
    "from time import time\n",
    "\n",
    "import os\n",
    "import random\n",
    "import pickle\n",
    "\n",
    "import xgboost as xgb\n",
    "from sklearn.ensemble import RandomForestClassifier, RandomForestRegressor\n",
    "from sklearn.tree import DecisionTreeClassifier\n",
    "from sklearn.linear_model import LogisticRegression\n",
    "from sklearn.naive_bayes import GaussianNB, MultinomialNB\n",
    "from sklearn.svm import LinearSVC, SVC\n",
    "\n",
    "from sklearn.model_selection import train_test_split\n",
    "from sklearn.preprocessing import LabelEncoder, StandardScaler, MinMaxScaler\n",
    "from sklearn.metrics import f1_score, precision_score, recall_score, accuracy_score, confusion_matrix, roc_auc_score, roc_curve, auc\n",
    "\n",
    "import warnings\n",
    "warnings.filterwarnings('ignore')\n"
   ]
  },
  {
   "cell_type": "code",
   "execution_count": 2,
   "metadata": {},
   "outputs": [],
   "source": [
    "input_path = \"data/\"\n",
    "\n",
    "on_train = pd.read_csv(input_path + 'ccf_online_stage1_train.csv',header=None)\n",
    "on_train.columns = [\"user_id\",\"merchant_id\",\"action\",\"coupon_id\",\"discount_rate\",\"date_received\",\"date\"]\n",
    "on_train.drop(index=0,inplace=True)\n",
    "\n",
    "off_train = pd.read_csv(input_path + 'ccf_offline_stage1_train.csv',header=None)\n",
    "off_train.columns = [\"user_id\",\"merchant_id\",\"coupon_id\",\"discount_rate\",\"distance\",\"date_received\",\"date\"]\n",
    "off_train.drop(index=0,inplace=True)\n",
    "\n",
    "off_test = pd.read_csv(input_path + 'ccf_offline_stage1_test_revised.csv',header=None)\n",
    "off_test.columns = [\"user_id\",\"merchant_id\",\"coupon_id\",\"discount_rate\",\"distance\",\"date_received\"]\n",
    "off_test.drop(index=0,inplace=True)"
   ]
  },
  {
   "cell_type": "markdown",
   "metadata": {},
   "source": [
    "## 一、数据集探索"
   ]
  },
  {
   "cell_type": "markdown",
   "metadata": {},
   "source": [
    "1.查看数据表头"
   ]
  },
  {
   "cell_type": "code",
   "execution_count": 3,
   "metadata": {},
   "outputs": [
    {
     "data": {
      "text/html": [
       "<div>\n",
       "<style scoped>\n",
       "    .dataframe tbody tr th:only-of-type {\n",
       "        vertical-align: middle;\n",
       "    }\n",
       "\n",
       "    .dataframe tbody tr th {\n",
       "        vertical-align: top;\n",
       "    }\n",
       "\n",
       "    .dataframe thead th {\n",
       "        text-align: right;\n",
       "    }\n",
       "</style>\n",
       "<table border=\"1\" class=\"dataframe\">\n",
       "  <thead>\n",
       "    <tr style=\"text-align: right;\">\n",
       "      <th></th>\n",
       "      <th>user_id</th>\n",
       "      <th>merchant_id</th>\n",
       "      <th>action</th>\n",
       "      <th>coupon_id</th>\n",
       "      <th>discount_rate</th>\n",
       "      <th>date_received</th>\n",
       "      <th>date</th>\n",
       "    </tr>\n",
       "  </thead>\n",
       "  <tbody>\n",
       "    <tr>\n",
       "      <th>1</th>\n",
       "      <td>13740231</td>\n",
       "      <td>18907</td>\n",
       "      <td>2</td>\n",
       "      <td>100017492</td>\n",
       "      <td>500:50</td>\n",
       "      <td>20160513</td>\n",
       "      <td>NaN</td>\n",
       "    </tr>\n",
       "    <tr>\n",
       "      <th>2</th>\n",
       "      <td>13740231</td>\n",
       "      <td>34805</td>\n",
       "      <td>1</td>\n",
       "      <td>NaN</td>\n",
       "      <td>NaN</td>\n",
       "      <td>NaN</td>\n",
       "      <td>20160321</td>\n",
       "    </tr>\n",
       "    <tr>\n",
       "      <th>3</th>\n",
       "      <td>14336199</td>\n",
       "      <td>18907</td>\n",
       "      <td>0</td>\n",
       "      <td>NaN</td>\n",
       "      <td>NaN</td>\n",
       "      <td>NaN</td>\n",
       "      <td>20160618</td>\n",
       "    </tr>\n",
       "    <tr>\n",
       "      <th>4</th>\n",
       "      <td>14336199</td>\n",
       "      <td>18907</td>\n",
       "      <td>0</td>\n",
       "      <td>NaN</td>\n",
       "      <td>NaN</td>\n",
       "      <td>NaN</td>\n",
       "      <td>20160618</td>\n",
       "    </tr>\n",
       "    <tr>\n",
       "      <th>5</th>\n",
       "      <td>14336199</td>\n",
       "      <td>18907</td>\n",
       "      <td>0</td>\n",
       "      <td>NaN</td>\n",
       "      <td>NaN</td>\n",
       "      <td>NaN</td>\n",
       "      <td>20160618</td>\n",
       "    </tr>\n",
       "  </tbody>\n",
       "</table>\n",
       "</div>"
      ],
      "text/plain": [
       "    user_id merchant_id action  coupon_id discount_rate date_received  \\\n",
       "1  13740231       18907      2  100017492        500:50      20160513   \n",
       "2  13740231       34805      1        NaN           NaN           NaN   \n",
       "3  14336199       18907      0        NaN           NaN           NaN   \n",
       "4  14336199       18907      0        NaN           NaN           NaN   \n",
       "5  14336199       18907      0        NaN           NaN           NaN   \n",
       "\n",
       "       date  \n",
       "1       NaN  \n",
       "2  20160321  \n",
       "3  20160618  \n",
       "4  20160618  \n",
       "5  20160618  "
      ]
     },
     "execution_count": 3,
     "metadata": {},
     "output_type": "execute_result"
    }
   ],
   "source": [
    "on_train.head()"
   ]
  },
  {
   "cell_type": "code",
   "execution_count": 4,
   "metadata": {},
   "outputs": [
    {
     "data": {
      "text/html": [
       "<div>\n",
       "<style scoped>\n",
       "    .dataframe tbody tr th:only-of-type {\n",
       "        vertical-align: middle;\n",
       "    }\n",
       "\n",
       "    .dataframe tbody tr th {\n",
       "        vertical-align: top;\n",
       "    }\n",
       "\n",
       "    .dataframe thead th {\n",
       "        text-align: right;\n",
       "    }\n",
       "</style>\n",
       "<table border=\"1\" class=\"dataframe\">\n",
       "  <thead>\n",
       "    <tr style=\"text-align: right;\">\n",
       "      <th></th>\n",
       "      <th>user_id</th>\n",
       "      <th>merchant_id</th>\n",
       "      <th>coupon_id</th>\n",
       "      <th>discount_rate</th>\n",
       "      <th>distance</th>\n",
       "      <th>date_received</th>\n",
       "      <th>date</th>\n",
       "    </tr>\n",
       "  </thead>\n",
       "  <tbody>\n",
       "    <tr>\n",
       "      <th>1</th>\n",
       "      <td>1439408</td>\n",
       "      <td>2632</td>\n",
       "      <td>NaN</td>\n",
       "      <td>NaN</td>\n",
       "      <td>0</td>\n",
       "      <td>NaN</td>\n",
       "      <td>20160217</td>\n",
       "    </tr>\n",
       "    <tr>\n",
       "      <th>2</th>\n",
       "      <td>1439408</td>\n",
       "      <td>4663</td>\n",
       "      <td>11002</td>\n",
       "      <td>150:20</td>\n",
       "      <td>1</td>\n",
       "      <td>20160528</td>\n",
       "      <td>NaN</td>\n",
       "    </tr>\n",
       "    <tr>\n",
       "      <th>3</th>\n",
       "      <td>1439408</td>\n",
       "      <td>2632</td>\n",
       "      <td>8591</td>\n",
       "      <td>20:1</td>\n",
       "      <td>0</td>\n",
       "      <td>20160217</td>\n",
       "      <td>NaN</td>\n",
       "    </tr>\n",
       "    <tr>\n",
       "      <th>4</th>\n",
       "      <td>1439408</td>\n",
       "      <td>2632</td>\n",
       "      <td>1078</td>\n",
       "      <td>20:1</td>\n",
       "      <td>0</td>\n",
       "      <td>20160319</td>\n",
       "      <td>NaN</td>\n",
       "    </tr>\n",
       "    <tr>\n",
       "      <th>5</th>\n",
       "      <td>1439408</td>\n",
       "      <td>2632</td>\n",
       "      <td>8591</td>\n",
       "      <td>20:1</td>\n",
       "      <td>0</td>\n",
       "      <td>20160613</td>\n",
       "      <td>NaN</td>\n",
       "    </tr>\n",
       "  </tbody>\n",
       "</table>\n",
       "</div>"
      ],
      "text/plain": [
       "   user_id merchant_id coupon_id discount_rate distance date_received  \\\n",
       "1  1439408        2632       NaN           NaN        0           NaN   \n",
       "2  1439408        4663     11002        150:20        1      20160528   \n",
       "3  1439408        2632      8591          20:1        0      20160217   \n",
       "4  1439408        2632      1078          20:1        0      20160319   \n",
       "5  1439408        2632      8591          20:1        0      20160613   \n",
       "\n",
       "       date  \n",
       "1  20160217  \n",
       "2       NaN  \n",
       "3       NaN  \n",
       "4       NaN  \n",
       "5       NaN  "
      ]
     },
     "execution_count": 4,
     "metadata": {},
     "output_type": "execute_result"
    }
   ],
   "source": [
    "off_train.head()"
   ]
  },
  {
   "cell_type": "code",
   "execution_count": 5,
   "metadata": {},
   "outputs": [
    {
     "data": {
      "text/html": [
       "<div>\n",
       "<style scoped>\n",
       "    .dataframe tbody tr th:only-of-type {\n",
       "        vertical-align: middle;\n",
       "    }\n",
       "\n",
       "    .dataframe tbody tr th {\n",
       "        vertical-align: top;\n",
       "    }\n",
       "\n",
       "    .dataframe thead th {\n",
       "        text-align: right;\n",
       "    }\n",
       "</style>\n",
       "<table border=\"1\" class=\"dataframe\">\n",
       "  <thead>\n",
       "    <tr style=\"text-align: right;\">\n",
       "      <th></th>\n",
       "      <th>user_id</th>\n",
       "      <th>merchant_id</th>\n",
       "      <th>coupon_id</th>\n",
       "      <th>discount_rate</th>\n",
       "      <th>distance</th>\n",
       "      <th>date_received</th>\n",
       "    </tr>\n",
       "  </thead>\n",
       "  <tbody>\n",
       "    <tr>\n",
       "      <th>1</th>\n",
       "      <td>4129537</td>\n",
       "      <td>450</td>\n",
       "      <td>9983</td>\n",
       "      <td>30:5</td>\n",
       "      <td>1</td>\n",
       "      <td>20160712</td>\n",
       "    </tr>\n",
       "    <tr>\n",
       "      <th>2</th>\n",
       "      <td>6949378</td>\n",
       "      <td>1300</td>\n",
       "      <td>3429</td>\n",
       "      <td>30:5</td>\n",
       "      <td>NaN</td>\n",
       "      <td>20160706</td>\n",
       "    </tr>\n",
       "    <tr>\n",
       "      <th>3</th>\n",
       "      <td>2166529</td>\n",
       "      <td>7113</td>\n",
       "      <td>6928</td>\n",
       "      <td>200:20</td>\n",
       "      <td>5</td>\n",
       "      <td>20160727</td>\n",
       "    </tr>\n",
       "    <tr>\n",
       "      <th>4</th>\n",
       "      <td>2166529</td>\n",
       "      <td>7113</td>\n",
       "      <td>1808</td>\n",
       "      <td>100:10</td>\n",
       "      <td>5</td>\n",
       "      <td>20160727</td>\n",
       "    </tr>\n",
       "    <tr>\n",
       "      <th>5</th>\n",
       "      <td>6172162</td>\n",
       "      <td>7605</td>\n",
       "      <td>6500</td>\n",
       "      <td>30:1</td>\n",
       "      <td>2</td>\n",
       "      <td>20160708</td>\n",
       "    </tr>\n",
       "  </tbody>\n",
       "</table>\n",
       "</div>"
      ],
      "text/plain": [
       "   user_id merchant_id coupon_id discount_rate distance date_received\n",
       "1  4129537         450      9983          30:5        1      20160712\n",
       "2  6949378        1300      3429          30:5      NaN      20160706\n",
       "3  2166529        7113      6928        200:20        5      20160727\n",
       "4  2166529        7113      1808        100:10        5      20160727\n",
       "5  6172162        7605      6500          30:1        2      20160708"
      ]
     },
     "execution_count": 5,
     "metadata": {},
     "output_type": "execute_result"
    }
   ],
   "source": [
    "off_test.head()"
   ]
  },
  {
   "cell_type": "markdown",
   "metadata": {},
   "source": [
    "2.查看数据集信息及缺失率"
   ]
  },
  {
   "cell_type": "code",
   "execution_count": 6,
   "metadata": {},
   "outputs": [
    {
     "name": "stdout",
     "output_type": "stream",
     "text": [
      "<class 'pandas.core.frame.DataFrame'>\n",
      "Int64Index: 11429826 entries, 1 to 11429826\n",
      "Data columns (total 7 columns):\n",
      "user_id          object\n",
      "merchant_id      object\n",
      "action           object\n",
      "coupon_id        object\n",
      "discount_rate    object\n",
      "date_received    object\n",
      "date             object\n",
      "dtypes: object(7)\n",
      "memory usage: 697.6+ MB\n"
     ]
    }
   ],
   "source": [
    "on_train.info()"
   ]
  },
  {
   "cell_type": "code",
   "execution_count": 7,
   "metadata": {},
   "outputs": [
    {
     "data": {
      "text/html": [
       "<div>\n",
       "<style scoped>\n",
       "    .dataframe tbody tr th:only-of-type {\n",
       "        vertical-align: middle;\n",
       "    }\n",
       "\n",
       "    .dataframe tbody tr th {\n",
       "        vertical-align: top;\n",
       "    }\n",
       "\n",
       "    .dataframe thead th {\n",
       "        text-align: right;\n",
       "    }\n",
       "</style>\n",
       "<table border=\"1\" class=\"dataframe\">\n",
       "  <thead>\n",
       "    <tr style=\"text-align: right;\">\n",
       "      <th></th>\n",
       "      <th>count</th>\n",
       "      <th>unique</th>\n",
       "      <th>top</th>\n",
       "      <th>freq</th>\n",
       "      <th>missing_pct</th>\n",
       "    </tr>\n",
       "  </thead>\n",
       "  <tbody>\n",
       "    <tr>\n",
       "      <th>user_id</th>\n",
       "      <td>11429826</td>\n",
       "      <td>762860</td>\n",
       "      <td>14015266</td>\n",
       "      <td>5786</td>\n",
       "      <td>0.000000</td>\n",
       "    </tr>\n",
       "    <tr>\n",
       "      <th>merchant_id</th>\n",
       "      <td>11429826</td>\n",
       "      <td>15132</td>\n",
       "      <td>18907</td>\n",
       "      <td>425642</td>\n",
       "      <td>0.000000</td>\n",
       "    </tr>\n",
       "    <tr>\n",
       "      <th>action</th>\n",
       "      <td>11429826</td>\n",
       "      <td>6</td>\n",
       "      <td>0</td>\n",
       "      <td>9294534</td>\n",
       "      <td>0.000000</td>\n",
       "    </tr>\n",
       "    <tr>\n",
       "      <th>coupon_id</th>\n",
       "      <td>872357</td>\n",
       "      <td>27747</td>\n",
       "      <td>fixed</td>\n",
       "      <td>131546</td>\n",
       "      <td>0.923677</td>\n",
       "    </tr>\n",
       "    <tr>\n",
       "      <th>discount_rate</th>\n",
       "      <td>872357</td>\n",
       "      <td>64</td>\n",
       "      <td>fixed</td>\n",
       "      <td>131546</td>\n",
       "      <td>0.923677</td>\n",
       "    </tr>\n",
       "    <tr>\n",
       "      <th>date_received</th>\n",
       "      <td>872357</td>\n",
       "      <td>334</td>\n",
       "      <td>2.01603e+07</td>\n",
       "      <td>10749</td>\n",
       "      <td>0.923677</td>\n",
       "    </tr>\n",
       "    <tr>\n",
       "      <th>date</th>\n",
       "      <td>1.07739e+07</td>\n",
       "      <td>364</td>\n",
       "      <td>2.01606e+07</td>\n",
       "      <td>111344</td>\n",
       "      <td>0.057385</td>\n",
       "    </tr>\n",
       "  </tbody>\n",
       "</table>\n",
       "</div>"
      ],
      "text/plain": [
       "                     count  unique          top     freq  missing_pct\n",
       "user_id           11429826  762860     14015266     5786     0.000000\n",
       "merchant_id       11429826   15132        18907   425642     0.000000\n",
       "action            11429826       6            0  9294534     0.000000\n",
       "coupon_id           872357   27747        fixed   131546     0.923677\n",
       "discount_rate       872357      64        fixed   131546     0.923677\n",
       "date_received       872357     334  2.01603e+07    10749     0.923677\n",
       "date           1.07739e+07     364  2.01606e+07   111344     0.057385"
      ]
     },
     "execution_count": 7,
     "metadata": {},
     "output_type": "execute_result"
    }
   ],
   "source": [
    "on_train.describe().T.assign(\n",
    "  missing_pct=on_train.apply(lambda x : (len(x)-x.count())/float(len(x))))"
   ]
  },
  {
   "cell_type": "code",
   "execution_count": 8,
   "metadata": {},
   "outputs": [
    {
     "name": "stdout",
     "output_type": "stream",
     "text": [
      "<class 'pandas.core.frame.DataFrame'>\n",
      "Int64Index: 1754884 entries, 1 to 1754884\n",
      "Data columns (total 7 columns):\n",
      "user_id          object\n",
      "merchant_id      object\n",
      "coupon_id        object\n",
      "discount_rate    object\n",
      "distance         object\n",
      "date_received    object\n",
      "date             object\n",
      "dtypes: object(7)\n",
      "memory usage: 107.1+ MB\n"
     ]
    }
   ],
   "source": [
    "off_train.info()"
   ]
  },
  {
   "cell_type": "code",
   "execution_count": 9,
   "metadata": {},
   "outputs": [
    {
     "data": {
      "text/html": [
       "<div>\n",
       "<style scoped>\n",
       "    .dataframe tbody tr th:only-of-type {\n",
       "        vertical-align: middle;\n",
       "    }\n",
       "\n",
       "    .dataframe tbody tr th {\n",
       "        vertical-align: top;\n",
       "    }\n",
       "\n",
       "    .dataframe thead th {\n",
       "        text-align: right;\n",
       "    }\n",
       "</style>\n",
       "<table border=\"1\" class=\"dataframe\">\n",
       "  <thead>\n",
       "    <tr style=\"text-align: right;\">\n",
       "      <th></th>\n",
       "      <th>count</th>\n",
       "      <th>unique</th>\n",
       "      <th>top</th>\n",
       "      <th>freq</th>\n",
       "      <th>missing_pct</th>\n",
       "    </tr>\n",
       "  </thead>\n",
       "  <tbody>\n",
       "    <tr>\n",
       "      <th>user_id</th>\n",
       "      <td>1754884</td>\n",
       "      <td>539439</td>\n",
       "      <td>5054119</td>\n",
       "      <td>264</td>\n",
       "      <td>0.000000</td>\n",
       "    </tr>\n",
       "    <tr>\n",
       "      <th>merchant_id</th>\n",
       "      <td>1754884</td>\n",
       "      <td>12578</td>\n",
       "      <td>3381</td>\n",
       "      <td>131537</td>\n",
       "      <td>0.000000</td>\n",
       "    </tr>\n",
       "    <tr>\n",
       "      <th>coupon_id</th>\n",
       "      <td>1.05328e+06</td>\n",
       "      <td>14639</td>\n",
       "      <td>7610</td>\n",
       "      <td>43219</td>\n",
       "      <td>0.399800</td>\n",
       "    </tr>\n",
       "    <tr>\n",
       "      <th>discount_rate</th>\n",
       "      <td>1053282</td>\n",
       "      <td>45</td>\n",
       "      <td>30:5</td>\n",
       "      <td>270712</td>\n",
       "      <td>0.399800</td>\n",
       "    </tr>\n",
       "    <tr>\n",
       "      <th>distance</th>\n",
       "      <td>1.64888e+06</td>\n",
       "      <td>22</td>\n",
       "      <td>0</td>\n",
       "      <td>764719</td>\n",
       "      <td>0.060405</td>\n",
       "    </tr>\n",
       "    <tr>\n",
       "      <th>date_received</th>\n",
       "      <td>1.05328e+06</td>\n",
       "      <td>334</td>\n",
       "      <td>2.01601e+07</td>\n",
       "      <td>66218</td>\n",
       "      <td>0.399800</td>\n",
       "    </tr>\n",
       "    <tr>\n",
       "      <th>date</th>\n",
       "      <td>776984</td>\n",
       "      <td>364</td>\n",
       "      <td>2.01603e+07</td>\n",
       "      <td>9463</td>\n",
       "      <td>0.557245</td>\n",
       "    </tr>\n",
       "  </tbody>\n",
       "</table>\n",
       "</div>"
      ],
      "text/plain": [
       "                     count  unique          top    freq  missing_pct\n",
       "user_id            1754884  539439      5054119     264     0.000000\n",
       "merchant_id        1754884   12578         3381  131537     0.000000\n",
       "coupon_id      1.05328e+06   14639         7610   43219     0.399800\n",
       "discount_rate      1053282      45         30:5  270712     0.399800\n",
       "distance       1.64888e+06      22            0  764719     0.060405\n",
       "date_received  1.05328e+06     334  2.01601e+07   66218     0.399800\n",
       "date                776984     364  2.01603e+07    9463     0.557245"
      ]
     },
     "execution_count": 9,
     "metadata": {},
     "output_type": "execute_result"
    }
   ],
   "source": [
    "off_train.select_dtypes(include=\"object\").describe().T.assign(\n",
    "  missing_pct=off_train.apply(lambda x : (len(x)-x.count())/float(len(x))))"
   ]
  },
  {
   "cell_type": "code",
   "execution_count": 10,
   "metadata": {},
   "outputs": [
    {
     "name": "stdout",
     "output_type": "stream",
     "text": [
      "<class 'pandas.core.frame.DataFrame'>\n",
      "Int64Index: 113640 entries, 1 to 113640\n",
      "Data columns (total 6 columns):\n",
      "user_id          113640 non-null object\n",
      "merchant_id      113640 non-null object\n",
      "coupon_id        113640 non-null object\n",
      "discount_rate    113640 non-null object\n",
      "distance         101576 non-null object\n",
      "date_received    113640 non-null object\n",
      "dtypes: object(6)\n",
      "memory usage: 6.1+ MB\n"
     ]
    }
   ],
   "source": [
    "off_test.info()"
   ]
  },
  {
   "cell_type": "code",
   "execution_count": 11,
   "metadata": {},
   "outputs": [
    {
     "data": {
      "text/html": [
       "<div>\n",
       "<style scoped>\n",
       "    .dataframe tbody tr th:only-of-type {\n",
       "        vertical-align: middle;\n",
       "    }\n",
       "\n",
       "    .dataframe tbody tr th {\n",
       "        vertical-align: top;\n",
       "    }\n",
       "\n",
       "    .dataframe thead th {\n",
       "        text-align: right;\n",
       "    }\n",
       "</style>\n",
       "<table border=\"1\" class=\"dataframe\">\n",
       "  <thead>\n",
       "    <tr style=\"text-align: right;\">\n",
       "      <th></th>\n",
       "      <th>count</th>\n",
       "      <th>unique</th>\n",
       "      <th>top</th>\n",
       "      <th>freq</th>\n",
       "      <th>missing_pct</th>\n",
       "    </tr>\n",
       "  </thead>\n",
       "  <tbody>\n",
       "    <tr>\n",
       "      <th>user_id</th>\n",
       "      <td>113640</td>\n",
       "      <td>76309</td>\n",
       "      <td>6977597</td>\n",
       "      <td>97</td>\n",
       "      <td>0.00000</td>\n",
       "    </tr>\n",
       "    <tr>\n",
       "      <th>merchant_id</th>\n",
       "      <td>113640</td>\n",
       "      <td>1559</td>\n",
       "      <td>760</td>\n",
       "      <td>29958</td>\n",
       "      <td>0.00000</td>\n",
       "    </tr>\n",
       "    <tr>\n",
       "      <th>coupon_id</th>\n",
       "      <td>113640</td>\n",
       "      <td>2050</td>\n",
       "      <td>13602</td>\n",
       "      <td>29885</td>\n",
       "      <td>0.00000</td>\n",
       "    </tr>\n",
       "    <tr>\n",
       "      <th>discount_rate</th>\n",
       "      <td>113640</td>\n",
       "      <td>42</td>\n",
       "      <td>30:5</td>\n",
       "      <td>59318</td>\n",
       "      <td>0.00000</td>\n",
       "    </tr>\n",
       "    <tr>\n",
       "      <th>distance</th>\n",
       "      <td>101576</td>\n",
       "      <td>11</td>\n",
       "      <td>0</td>\n",
       "      <td>43867</td>\n",
       "      <td>0.10616</td>\n",
       "    </tr>\n",
       "    <tr>\n",
       "      <th>date_received</th>\n",
       "      <td>113640</td>\n",
       "      <td>31</td>\n",
       "      <td>20160703</td>\n",
       "      <td>5491</td>\n",
       "      <td>0.00000</td>\n",
       "    </tr>\n",
       "  </tbody>\n",
       "</table>\n",
       "</div>"
      ],
      "text/plain": [
       "                count unique       top   freq  missing_pct\n",
       "user_id        113640  76309   6977597     97      0.00000\n",
       "merchant_id    113640   1559       760  29958      0.00000\n",
       "coupon_id      113640   2050     13602  29885      0.00000\n",
       "discount_rate  113640     42      30:5  59318      0.00000\n",
       "distance       101576     11         0  43867      0.10616\n",
       "date_received  113640     31  20160703   5491      0.00000"
      ]
     },
     "execution_count": 11,
     "metadata": {},
     "output_type": "execute_result"
    }
   ],
   "source": [
    "off_test.select_dtypes(include=\"object\").describe().T.assign(\n",
    "  missing_pct=off_test.apply(lambda x : (len(x)-x.count())/float(len(x))))"
   ]
  },
  {
   "cell_type": "markdown",
   "metadata": {},
   "source": [
    "3.删除全空的行"
   ]
  },
  {
   "cell_type": "code",
   "execution_count": 12,
   "metadata": {},
   "outputs": [
    {
     "name": "stdout",
     "output_type": "stream",
     "text": [
      "on_train: (11429826, 7)\n",
      "off_train: (1754884, 7)\n",
      "off_test: (113640, 6)\n"
     ]
    }
   ],
   "source": [
    "print('on_train:', on_train.shape)\n",
    "print('off_train:', off_train.shape)\n",
    "print('off_test:', off_test.shape)"
   ]
  },
  {
   "cell_type": "code",
   "execution_count": 13,
   "metadata": {},
   "outputs": [],
   "source": [
    "on_train.dropna(axis=0, how='all',inplace=True)\n",
    "off_train.dropna(axis=0, how='all',inplace=True)\n",
    "off_test.dropna(axis=0, how='all',inplace=True)"
   ]
  },
  {
   "cell_type": "code",
   "execution_count": 14,
   "metadata": {},
   "outputs": [
    {
     "name": "stdout",
     "output_type": "stream",
     "text": [
      "on_train: (11429826, 7)\n",
      "off_train: (1754884, 7)\n",
      "off_test: (113640, 6)\n"
     ]
    }
   ],
   "source": [
    "print('on_train:', on_train.shape)\n",
    "print('off_train:', off_train.shape)\n",
    "print('off_test:', off_test.shape)"
   ]
  },
  {
   "cell_type": "code",
   "execution_count": 15,
   "metadata": {},
   "outputs": [],
   "source": [
    "#以\"null\"填充空值\n",
    "off_train.fillna('null',inplace=True)#将空替换成\"null\"\n",
    "on_train.fillna('null',inplace=True)#将空替换成\"null\"\n",
    "off_test.fillna('null',inplace=True)#将空替换成\"null\""
   ]
  },
  {
   "cell_type": "code",
   "execution_count": 16,
   "metadata": {},
   "outputs": [],
   "source": [
    "#将领取优惠券时间和消费时间统一成格式str\n",
    "def tran_int_str(col):\n",
    "    if col=='null':\n",
    "        return col\n",
    "    else:\n",
    "        return str(int(float(col)))\n",
    "\n",
    "on_train['date'] = on_train['date'].apply(tran_int_str)\n",
    "on_train['date_received'] = on_train['date_received'].apply(tran_int_str)\n",
    "\n",
    "off_train['date'] = off_train['date'].apply(tran_int_str)\n",
    "off_train['date_received'] = off_train['date_received'].apply(tran_int_str)\n",
    "\n",
    "off_test['date_received'] = off_test['date_received'].apply(tran_int_str)"
   ]
  },
  {
   "cell_type": "markdown",
   "metadata": {},
   "source": [
    "4.查看线下数据集特征"
   ]
  },
  {
   "cell_type": "markdown",
   "metadata": {},
   "source": [
    "折扣率特征"
   ]
  },
  {
   "cell_type": "code",
   "execution_count": 17,
   "metadata": {},
   "outputs": [
    {
     "data": {
      "text/plain": [
       "array(['null', '150:20', '20:1', '200:20', '30:5', '50:10', '10:5',\n",
       "       '100:10', '200:30', '20:5', '30:10', '50:5', '150:10', '100:30',\n",
       "       '200:50', '100:50', '300:30', '50:20', '0.9', '10:1', '30:1',\n",
       "       '0.95', '100:5', '5:1', '100:20', '0.8', '50:1', '200:10',\n",
       "       '300:20', '100:1', '150:30', '300:50', '20:10', '0.85', '0.6',\n",
       "       '150:50', '0.75', '0.5', '200:5', '0.7', '30:20', '300:10', '0.2',\n",
       "       '50:30', '200:100', '150:5'], dtype=object)"
      ]
     },
     "execution_count": 17,
     "metadata": {},
     "output_type": "execute_result"
    }
   ],
   "source": [
    "#折扣率的种类\n",
    "off_train.discount_rate.unique()"
   ]
  },
  {
   "cell_type": "code",
   "execution_count": 18,
   "metadata": {},
   "outputs": [
    {
     "data": {
      "image/png": "[encoded data removed]",
      "text/plain": [
       "<matplotlib.figure.Figure at 0xb43db70>"
      ]
     },
     "metadata": {},
     "output_type": "display_data"
    }
   ],
   "source": [
    "#特征出现的次数分布\n",
    "def feature_count_display(data,feature):\n",
    "    X = []\n",
    "    Y = []\n",
    "    for rate_type in (data[feature].unique()):\n",
    "        if rate_type != \"null\":\n",
    "            x = rate_type\n",
    "            y = data[data[feature] == rate_type][feature].count()\n",
    "\n",
    "            X.append(x)#折扣类型\n",
    "            Y.append(y)#折扣类型对应的样本数\n",
    "\n",
    "    df_tem = pd.DataFrame([X, Y]).T\n",
    "    df_tem = df_tem.sort_values(by=1, ascending = False).reset_index(drop=True)\n",
    "\n",
    "    df_tem[1].plot()\n",
    "    plt.show()\n",
    "    \n",
    "#折扣率出现的次数\n",
    "feature_count_display(off_train,\"discount_rate\")"
   ]
  },
  {
   "cell_type": "markdown",
   "metadata": {},
   "source": [
    "折扣率特点：特定的几种折扣率出现的次数特别集中"
   ]
  },
  {
   "cell_type": "markdown",
   "metadata": {},
   "source": [
    "距离特征"
   ]
  },
  {
   "cell_type": "code",
   "execution_count": 19,
   "metadata": {},
   "outputs": [
    {
     "data": {
      "text/plain": [
       "array(['0', '1', 'null', '2', '10', '4', '7', '9', '3', '5', '6', '8',\n",
       "       1.0, 0.0, 10.0, 4.0, 8.0, 5.0, 2.0, 3.0, 7.0, 6.0, 9.0],\n",
       "      dtype=object)"
      ]
     },
     "execution_count": 19,
     "metadata": {},
     "output_type": "execute_result"
    }
   ],
   "source": [
    "#查看距离的种类（格式不统一）\n",
    "off_train.distance.unique()"
   ]
  },
  {
   "cell_type": "code",
   "execution_count": 20,
   "metadata": {},
   "outputs": [],
   "source": [
    "off_train['distance'] = off_train['distance'].apply(tran_int_str)"
   ]
  },
  {
   "cell_type": "code",
   "execution_count": 21,
   "metadata": {},
   "outputs": [
    {
     "data": {
      "text/plain": [
       "array(['0', '1', 'null', '2', '10', '4', '7', '9', '3', '5', '6', '8'],\n",
       "      dtype=object)"
      ]
     },
     "execution_count": 21,
     "metadata": {},
     "output_type": "execute_result"
    }
   ],
   "source": [
    "#查看距离的种类（统一距离的格式）\n",
    "off_train.distance.unique()"
   ]
  },
  {
   "cell_type": "code",
   "execution_count": 22,
   "metadata": {},
   "outputs": [
    {
     "data": {
      "text/plain": [
       "array(['1', 'null', '5', '2', '0', '10', '3', '6', '7', '4', '9', '8'],\n",
       "      dtype=object)"
      ]
     },
     "execution_count": 22,
     "metadata": {},
     "output_type": "execute_result"
    }
   ],
   "source": [
    "#查看测试集距离的种类（统一距离的格式）\n",
    "off_test.distance.unique()"
   ]
  },
  {
   "cell_type": "code",
   "execution_count": null,
   "metadata": {},
   "outputs": [],
   "source": []
  },
  {
   "cell_type": "markdown",
   "metadata": {},
   "source": [
    "用户组合特征"
   ]
  },
  {
   "cell_type": "code",
   "execution_count": 23,
   "metadata": {},
   "outputs": [],
   "source": [
    "#领取了优惠券的样本中，用户同一天领取同一商家优惠券的数量\n",
    "coupon_byDate = off_train[off_train['date_received'] != \"null\"].groupby(\n",
    "    ['user_id', 'date_received'], as_index=False)[['merchant_id']].count()\n",
    "coupon_byDate.columns = ['user_id', 'date_received','count']\n",
    "\n",
    "#领取了优惠券且使用了优惠券的样本中，用户同一天在同一商家消费的次数\n",
    "buy_byDate = off_train[(off_train['date'] != \"null\") & (off_train['date_received'] != \"null\")].groupby(\n",
    "    ['user_id', 'date'], as_index=False)[['merchant_id']].count()\n",
    "buy_byDate.columns = ['user_id', 'date','count']"
   ]
  },
  {
   "cell_type": "code",
   "execution_count": 24,
   "metadata": {},
   "outputs": [
    {
     "data": {
      "text/html": [
       "<div>\n",
       "<style scoped>\n",
       "    .dataframe tbody tr th:only-of-type {\n",
       "        vertical-align: middle;\n",
       "    }\n",
       "\n",
       "    .dataframe tbody tr th {\n",
       "        vertical-align: top;\n",
       "    }\n",
       "\n",
       "    .dataframe thead th {\n",
       "        text-align: right;\n",
       "    }\n",
       "</style>\n",
       "<table border=\"1\" class=\"dataframe\">\n",
       "  <thead>\n",
       "    <tr style=\"text-align: right;\">\n",
       "      <th></th>\n",
       "      <th>user_id</th>\n",
       "      <th>date_received</th>\n",
       "      <th>count</th>\n",
       "    </tr>\n",
       "  </thead>\n",
       "  <tbody>\n",
       "    <tr>\n",
       "      <th>0</th>\n",
       "      <td>4</td>\n",
       "      <td>20160214</td>\n",
       "      <td>1</td>\n",
       "    </tr>\n",
       "    <tr>\n",
       "      <th>1</th>\n",
       "      <td>4</td>\n",
       "      <td>20160607</td>\n",
       "      <td>1</td>\n",
       "    </tr>\n",
       "    <tr>\n",
       "      <th>2</th>\n",
       "      <td>35</td>\n",
       "      <td>20160129</td>\n",
       "      <td>2</td>\n",
       "    </tr>\n",
       "    <tr>\n",
       "      <th>3</th>\n",
       "      <td>35</td>\n",
       "      <td>20160130</td>\n",
       "      <td>2</td>\n",
       "    </tr>\n",
       "    <tr>\n",
       "      <th>4</th>\n",
       "      <td>36</td>\n",
       "      <td>20160125</td>\n",
       "      <td>2</td>\n",
       "    </tr>\n",
       "  </tbody>\n",
       "</table>\n",
       "</div>"
      ],
      "text/plain": [
       "  user_id date_received  count\n",
       "0       4      20160214      1\n",
       "1       4      20160607      1\n",
       "2      35      20160129      2\n",
       "3      35      20160130      2\n",
       "4      36      20160125      2"
      ]
     },
     "execution_count": 24,
     "metadata": {},
     "output_type": "execute_result"
    }
   ],
   "source": [
    "coupon_byDate.head()#用户同一天领取同一商家优惠券的次数"
   ]
  },
  {
   "cell_type": "code",
   "execution_count": 25,
   "metadata": {},
   "outputs": [
    {
     "data": {
      "text/html": [
       "<div>\n",
       "<style scoped>\n",
       "    .dataframe tbody tr th:only-of-type {\n",
       "        vertical-align: middle;\n",
       "    }\n",
       "\n",
       "    .dataframe tbody tr th {\n",
       "        vertical-align: top;\n",
       "    }\n",
       "\n",
       "    .dataframe thead th {\n",
       "        text-align: right;\n",
       "    }\n",
       "</style>\n",
       "<table border=\"1\" class=\"dataframe\">\n",
       "  <thead>\n",
       "    <tr style=\"text-align: right;\">\n",
       "      <th></th>\n",
       "      <th>user_id</th>\n",
       "      <th>date</th>\n",
       "      <th>count</th>\n",
       "    </tr>\n",
       "  </thead>\n",
       "  <tbody>\n",
       "    <tr>\n",
       "      <th>0</th>\n",
       "      <td>184</td>\n",
       "      <td>20160228</td>\n",
       "      <td>1</td>\n",
       "    </tr>\n",
       "    <tr>\n",
       "      <th>1</th>\n",
       "      <td>417</td>\n",
       "      <td>20160412</td>\n",
       "      <td>1</td>\n",
       "    </tr>\n",
       "    <tr>\n",
       "      <th>2</th>\n",
       "      <td>687</td>\n",
       "      <td>20160130</td>\n",
       "      <td>1</td>\n",
       "    </tr>\n",
       "    <tr>\n",
       "      <th>3</th>\n",
       "      <td>687</td>\n",
       "      <td>20160402</td>\n",
       "      <td>1</td>\n",
       "    </tr>\n",
       "    <tr>\n",
       "      <th>4</th>\n",
       "      <td>696</td>\n",
       "      <td>20160413</td>\n",
       "      <td>1</td>\n",
       "    </tr>\n",
       "  </tbody>\n",
       "</table>\n",
       "</div>"
      ],
      "text/plain": [
       "  user_id      date  count\n",
       "0     184  20160228      1\n",
       "1     417  20160412      1\n",
       "2     687  20160130      1\n",
       "3     687  20160402      1\n",
       "4     696  20160413      1"
      ]
     },
     "execution_count": 25,
     "metadata": {},
     "output_type": "execute_result"
    }
   ],
   "source": [
    "buy_byDate.head()#用户同一天在同一商家消费的次数"
   ]
  },
  {
   "cell_type": "markdown",
   "metadata": {},
   "source": [
    "训练集和测试集的覆盖程度"
   ]
  },
  {
   "cell_type": "code",
   "execution_count": 26,
   "metadata": {},
   "outputs": [
    {
     "name": "stdout",
     "output_type": "stream",
     "text": [
      "测试集新用户个数： 2\n",
      "测试集商店个数： 1\n",
      "测试集新优惠券个数： 932\n"
     ]
    }
   ],
   "source": [
    "#统一格式，否则统计的值不准确\n",
    "off_test['user_id'] = off_test['user_id'].apply(tran_int_str)\n",
    "off_train['user_id'] = off_train['user_id'].apply(tran_int_str)\n",
    "off_test['merchant_id'] = off_test['merchant_id'].apply(tran_int_str)\n",
    "off_train['merchant_id'] = off_train['merchant_id'].apply(tran_int_str)\n",
    "off_test['coupon_id'] = off_test['coupon_id'].apply(tran_int_str)\n",
    "off_train['coupon_id'] = off_train['coupon_id'].apply(tran_int_str)\n",
    "\n",
    "# 测试集中出现，但训练集没出现\n",
    "print('测试集新用户个数：', len(set(off_test.user_id) - set(off_train.user_id)))\n",
    "print('测试集商店个数：', len(set(off_test.merchant_id) - set(off_train.merchant_id)))\n",
    "print('测试集新优惠券个数：', len(set(off_test.coupon_id) - set(off_train.coupon_id)))"
   ]
  },
  {
   "cell_type": "markdown",
   "metadata": {},
   "source": [
    "训练集用户和商家基本上已经覆盖了测试集的。\n",
    "\n",
    "训练集的优惠券覆盖不了测试集的。"
   ]
  },
  {
   "cell_type": "markdown",
   "metadata": {},
   "source": [
    "核销的优惠券和只领取未核销的比例"
   ]
  },
  {
   "cell_type": "code",
   "execution_count": 27,
   "metadata": {},
   "outputs": [
    {
     "name": "stdout",
     "output_type": "stream",
     "text": [
      "(75382, 7)\n",
      "(977900, 7)\n"
     ]
    }
   ],
   "source": [
    "###正样本\n",
    "posi_sample_offLine = off_train[(off_train.coupon_id != \"null\") & (off_train.date != \"null\")]\n",
    "print(posi_sample_offLine.shape)\n",
    "\n",
    "###负样本\n",
    "navi_sample_offLine = off_train[(off_train.coupon_id != \"null\") & (off_train.date == \"null\")]\n",
    "print(navi_sample_offLine.shape)"
   ]
  },
  {
   "cell_type": "markdown",
   "metadata": {},
   "source": [
    "负样本：正样本 = 12.9"
   ]
  },
  {
   "cell_type": "markdown",
   "metadata": {},
   "source": [
    "优惠券的领取时间特征（最后几天可能会有问题）"
   ]
  },
  {
   "cell_type": "code",
   "execution_count": 28,
   "metadata": {},
   "outputs": [
    {
     "name": "stdout",
     "output_type": "stream",
     "text": [
      "online训练集，领取优惠券的最早时期： 20160102\n",
      "online训练集，领取优惠券的最后时期： 20160615\n",
      "online训练集，消费的最早时期： 20160102\n",
      "online训练集，消费的最后时期： 20160630\n",
      "offline训练集，领取优惠券的最早时期： 20160102\n",
      "offline训练集，领取优惠券的最后时期： 20160615\n",
      "offline训练集，消费的最早时期： 20160102\n",
      "offline训练集，消费的最后时期： 20160630\n",
      "offline测试集，领取优惠券的最早时期： 20160701\n",
      "offline测试集，领取优惠券的最后时期： 20160731\n"
     ]
    }
   ],
   "source": [
    "tem = sorted(on_train[on_train.date_received != \"null\"].date_received.unique())\n",
    "print('online训练集，领取优惠券的最早时期：', tem[1])\n",
    "print('online训练集，领取优惠券的最后时期：', tem[-1])\n",
    "\n",
    "tem = sorted(on_train[on_train.date != \"null\"].date.unique())\n",
    "print('online训练集，消费的最早时期：', tem[1])\n",
    "print('online训练集，消费的最后时期：', tem[-1])\n",
    "\n",
    "tem = sorted(off_train[off_train.date_received != \"null\"].date_received.unique())\n",
    "print('offline训练集，领取优惠券的最早时期：', tem[1])\n",
    "print('offline训练集，领取优惠券的最后时期：', tem[-1])\n",
    "\n",
    "tem = sorted(off_train[off_train.date != \"null\"].date.unique())\n",
    "print('offline训练集，消费的最早时期：', tem[1])\n",
    "print('offline训练集，消费的最后时期：', tem[-1])\n",
    "\n",
    "tem = sorted(off_test[off_test.date_received != \"null\"].date_received.unique())\n",
    "print('offline测试集，领取优惠券的最早时期：', tem[0])\n",
    "print('offline测试集，领取优惠券的最后时期：', tem[-1])"
   ]
  },
  {
   "cell_type": "markdown",
   "metadata": {},
   "source": [
    "领取优惠券和使用优惠券消费的组合特征"
   ]
  },
  {
   "cell_type": "code",
   "execution_count": 29,
   "metadata": {},
   "outputs": [
    {
     "name": "stdout",
     "output_type": "stream",
     "text": [
      "on_train:\n",
      "有优惠券， 购买商品： 216459\n",
      "有优惠券， 没有购买商品： 655898\n",
      "无优惠券， 购买商品： 10557469\n",
      "无优惠券， 没有购买商品： 0\n",
      "off_train:\n",
      "有优惠券， 购买商品： 75382\n",
      "有优惠券， 没有购买商品： 977900\n",
      "无优惠券， 购买商品： 701602\n",
      "无优惠券， 没有购买商品： 0\n"
     ]
    }
   ],
   "source": [
    "print('on_train:')\n",
    "print('有优惠券， 购买商品：', on_train[(on_train['coupon_id'] != \"null\") & (on_train['date'] != \"null\")].shape[0])\n",
    "print('有优惠券， 没有购买商品：', on_train[(on_train['coupon_id'] != \"null\") & (on_train['date'] == \"null\")].shape[0])\n",
    "print('无优惠券， 购买商品：', on_train[(on_train['coupon_id'] == \"null\") & (on_train['date'] != \"null\")].shape[0])\n",
    "print('无优惠券， 没有购买商品：', on_train[(on_train['coupon_id'] == \"null\") & (on_train['date'] == \"null\")].shape[0])\n",
    "\n",
    "print('off_train:')\n",
    "print('有优惠券， 购买商品：', off_train[(off_train['coupon_id'] != \"null\") & (off_train['date'] != \"null\")].shape[0])\n",
    "print('有优惠券， 没有购买商品：', off_train[(off_train['coupon_id'] != \"null\") & (off_train['date'] == \"null\")].shape[0])\n",
    "print('无优惠券， 购买商品：', off_train[(off_train['coupon_id'] == \"null\") & (off_train['date'] != \"null\")].shape[0])\n",
    "print('无优惠券， 没有购买商品：', off_train[(off_train['coupon_id'] == \"null\") & (off_train['date'] == \"null\")].shape[0])"
   ]
  },
  {
   "cell_type": "markdown",
   "metadata": {
    "collapsed": true
   },
   "source": [
    "训练集和测试集的覆盖度"
   ]
  },
  {
   "cell_type": "code",
   "execution_count": 32,
   "metadata": {},
   "outputs": [
    {
     "name": "stdout",
     "output_type": "stream",
     "text": [
      "on_train的人数： 762860\n",
      "off_train的人数： 539438\n",
      "off_train和on_train的人数交集： 3353\n",
      "off_train和on_train的人数并集： 1298945\n",
      "\n",
      "\n",
      "on_train的商户数： 15132\n",
      "off_train的商户数： 8415\n",
      "off_train和on_train的商户数交集： 0\n",
      "off_train和on_train的商户数并集： 23547\n",
      "\n",
      "\n",
      "on_train的优惠券数： 27748\n",
      "off_train的优惠券数： 9739\n",
      "off_train和on_train的优惠券数交集： 1\n",
      "off_train和on_train的优惠券数并集： 37486\n",
      "\n",
      "\n",
      "off_test的人数： 76309\n",
      "off_train和off_test的人数交集： 76307\n",
      "off_train和off_test的人数并集： 539440\n",
      "\n",
      "\n",
      "on_train的优惠券数： 27748\n",
      "off_train的优惠券数： 9739\n",
      "off_train领取优惠券的记录数： 1053282\n",
      "off_test的优惠券数： 2050\n",
      "off_test领取优惠券的记录数： 113640\n"
     ]
    }
   ],
   "source": [
    "print('on_train的人数：', len(set(on_train.user_id)))\n",
    "print('off_train的人数：', len(set(off_train.user_id)))\n",
    "print('off_train和on_train的人数交集：', len(set(on_train.user_id) & set(off_train.user_id)))\n",
    "print('off_train和on_train的人数并集：', len(set(on_train.user_id) | set(off_train.user_id)))\n",
    "print('\\n')\n",
    "\n",
    "print('on_train的商户数：', len(set(on_train.merchant_id)))\n",
    "print('off_train的商户数：', len(set(off_train.merchant_id)))\n",
    "print('off_train和on_train的商户数交集：', len(set(on_train.merchant_id) & set(off_train.merchant_id)))\n",
    "print('off_train和on_train的商户数并集：', len(set(on_train.merchant_id) | set(off_train.merchant_id)))\n",
    "print('\\n')\n",
    "\n",
    "print('on_train的优惠券数：', len(set(on_train.coupon_id)))\n",
    "print('off_train的优惠券数：', len(set(off_train.coupon_id)))\n",
    "print('off_train和on_train的优惠券数交集：', len(set(on_train.coupon_id) & set(off_train.coupon_id)))\n",
    "print('off_train和on_train的优惠券数并集：', len(set(on_train.coupon_id) | set(off_train.coupon_id)))\n",
    "print('\\n')\n",
    "\n",
    "print('off_test的人数：', len(set(off_test.user_id)))\n",
    "print('off_train和off_test的人数交集：', len(set(off_train.user_id) & set(off_test.user_id)))\n",
    "print('off_train和off_test的人数并集：', len(set(off_train.user_id) | set(off_test.user_id)))\n",
    "print('\\n')\n",
    "\n",
    "print('on_train的优惠券数：', on_train.coupon_id.nunique())\n",
    "print('off_train的优惠券数：', off_train.coupon_id.nunique())\n",
    "print('off_train领取优惠券的记录数：', off_train[off_train.coupon_id != \"null\"].shape[0])\n",
    "print('off_test的优惠券数：', off_test.coupon_id.nunique())\n",
    "print('off_test领取优惠券的记录数：', off_test[off_test.coupon_id != \"null\"].shape[0])"
   ]
  },
  {
   "cell_type": "code",
   "execution_count": null,
   "metadata": {
    "collapsed": true
   },
   "outputs": [],
   "source": []
  },
  {
   "cell_type": "markdown",
   "metadata": {},
   "source": [
    "5.数据集划分"
   ]
  },
  {
   "cell_type": "code",
   "execution_count": 61,
   "metadata": {},
   "outputs": [
    {
     "ename": "TypeError",
     "evalue": "'>=' not supported between instances of 'int' and 'str'",
     "output_type": "error",
     "traceback": [
      "\u001b[1;31m---------------------------------------------------------------------------\u001b[0m",
      "\u001b[1;31mTypeError\u001b[0m                                 Traceback (most recent call last)",
      "\u001b[1;32m<ipython-input-61-2c9ea3093190>\u001b[0m in \u001b[0;36m<module>\u001b[1;34m()\u001b[0m\n\u001b[0;32m      7\u001b[0m                                  \u001b[1;33m|\u001b[0m\u001b[1;33m\u001b[0m\u001b[0m\n\u001b[0;32m      8\u001b[0m                                  ((off_train.date != \"null\") & \n\u001b[1;32m----> 9\u001b[1;33m                                   \u001b[1;33m(\u001b[0m\u001b[0moff_train\u001b[0m\u001b[1;33m.\u001b[0m\u001b[0mdate\u001b[0m \u001b[1;33m>=\u001b[0m \u001b[1;34m\"20160315\"\u001b[0m\u001b[1;33m)\u001b[0m \u001b[1;33m&\u001b[0m\u001b[1;33m\u001b[0m\u001b[0m\n\u001b[0m\u001b[0;32m     10\u001b[0m                                   (off_train.date <= \"20160630\"))]#线下3月15号到6月30号之间消费的样本（包括领取和未领取优惠券的样本）\n\u001b[0;32m     11\u001b[0m \u001b[1;33m\u001b[0m\u001b[0m\n",
      "\u001b[1;32mC:\\ProgramData\\Anaconda3\\lib\\site-packages\\pandas\\core\\ops.py\u001b[0m in \u001b[0;36mwrapper\u001b[1;34m(self, other, axis)\u001b[0m\n\u001b[0;32m    877\u001b[0m \u001b[1;33m\u001b[0m\u001b[0m\n\u001b[0;32m    878\u001b[0m             \u001b[1;32mwith\u001b[0m \u001b[0mnp\u001b[0m\u001b[1;33m.\u001b[0m\u001b[0merrstate\u001b[0m\u001b[1;33m(\u001b[0m\u001b[0mall\u001b[0m\u001b[1;33m=\u001b[0m\u001b[1;34m'ignore'\u001b[0m\u001b[1;33m)\u001b[0m\u001b[1;33m:\u001b[0m\u001b[1;33m\u001b[0m\u001b[0m\n\u001b[1;32m--> 879\u001b[1;33m                 \u001b[0mres\u001b[0m \u001b[1;33m=\u001b[0m \u001b[0mna_op\u001b[0m\u001b[1;33m(\u001b[0m\u001b[0mvalues\u001b[0m\u001b[1;33m,\u001b[0m \u001b[0mother\u001b[0m\u001b[1;33m)\u001b[0m\u001b[1;33m\u001b[0m\u001b[0m\n\u001b[0m\u001b[0;32m    880\u001b[0m             \u001b[1;32mif\u001b[0m \u001b[0mis_scalar\u001b[0m\u001b[1;33m(\u001b[0m\u001b[0mres\u001b[0m\u001b[1;33m)\u001b[0m\u001b[1;33m:\u001b[0m\u001b[1;33m\u001b[0m\u001b[0m\n\u001b[0;32m    881\u001b[0m                 raise TypeError('Could not compare {typ} type with Series'\n",
      "\u001b[1;32mC:\\ProgramData\\Anaconda3\\lib\\site-packages\\pandas\\core\\ops.py\u001b[0m in \u001b[0;36mna_op\u001b[1;34m(x, y)\u001b[0m\n\u001b[0;32m    781\u001b[0m \u001b[1;33m\u001b[0m\u001b[0m\n\u001b[0;32m    782\u001b[0m         \u001b[1;32mif\u001b[0m \u001b[0mis_object_dtype\u001b[0m\u001b[1;33m(\u001b[0m\u001b[0mx\u001b[0m\u001b[1;33m.\u001b[0m\u001b[0mdtype\u001b[0m\u001b[1;33m)\u001b[0m\u001b[1;33m:\u001b[0m\u001b[1;33m\u001b[0m\u001b[0m\n\u001b[1;32m--> 783\u001b[1;33m             \u001b[0mresult\u001b[0m \u001b[1;33m=\u001b[0m \u001b[0m_comp_method_OBJECT_ARRAY\u001b[0m\u001b[1;33m(\u001b[0m\u001b[0mop\u001b[0m\u001b[1;33m,\u001b[0m \u001b[0mx\u001b[0m\u001b[1;33m,\u001b[0m \u001b[0my\u001b[0m\u001b[1;33m)\u001b[0m\u001b[1;33m\u001b[0m\u001b[0m\n\u001b[0m\u001b[0;32m    784\u001b[0m         \u001b[1;32melse\u001b[0m\u001b[1;33m:\u001b[0m\u001b[1;33m\u001b[0m\u001b[0m\n\u001b[0;32m    785\u001b[0m \u001b[1;33m\u001b[0m\u001b[0m\n",
      "\u001b[1;32mC:\\ProgramData\\Anaconda3\\lib\\site-packages\\pandas\\core\\ops.py\u001b[0m in \u001b[0;36m_comp_method_OBJECT_ARRAY\u001b[1;34m(op, x, y)\u001b[0m\n\u001b[0;32m    761\u001b[0m         \u001b[0mresult\u001b[0m \u001b[1;33m=\u001b[0m \u001b[0mlib\u001b[0m\u001b[1;33m.\u001b[0m\u001b[0mvec_compare\u001b[0m\u001b[1;33m(\u001b[0m\u001b[0mx\u001b[0m\u001b[1;33m,\u001b[0m \u001b[0my\u001b[0m\u001b[1;33m,\u001b[0m \u001b[0mop\u001b[0m\u001b[1;33m)\u001b[0m\u001b[1;33m\u001b[0m\u001b[0m\n\u001b[0;32m    762\u001b[0m     \u001b[1;32melse\u001b[0m\u001b[1;33m:\u001b[0m\u001b[1;33m\u001b[0m\u001b[0m\n\u001b[1;32m--> 763\u001b[1;33m         \u001b[0mresult\u001b[0m \u001b[1;33m=\u001b[0m \u001b[0mlib\u001b[0m\u001b[1;33m.\u001b[0m\u001b[0mscalar_compare\u001b[0m\u001b[1;33m(\u001b[0m\u001b[0mx\u001b[0m\u001b[1;33m,\u001b[0m \u001b[0my\u001b[0m\u001b[1;33m,\u001b[0m \u001b[0mop\u001b[0m\u001b[1;33m)\u001b[0m\u001b[1;33m\u001b[0m\u001b[0m\n\u001b[0m\u001b[0;32m    764\u001b[0m     \u001b[1;32mreturn\u001b[0m \u001b[0mresult\u001b[0m\u001b[1;33m\u001b[0m\u001b[0m\n\u001b[0;32m    765\u001b[0m \u001b[1;33m\u001b[0m\u001b[0m\n",
      "\u001b[1;32mpandas/_libs/lib.pyx\u001b[0m in \u001b[0;36mpandas._libs.lib.scalar_compare\u001b[1;34m()\u001b[0m\n",
      "\u001b[1;31mTypeError\u001b[0m: '>=' not supported between instances of 'int' and 'str'"
     ]
    }
   ],
   "source": [
    "###测试集数据\n",
    "df_test = off_test\n",
    "\n",
    "df_test_feat_offline = off_train[((off_train.date_received != \"null\") & \n",
    "                                  (off_train.date_received >= \"20160315\") & \n",
    "                                  (off_train.date_received <= \"20160630\")) #线下3月15号到6月30号之间领取优惠券的样本（领取了优惠券的样本）\n",
    "                                 | \n",
    "                                 ((off_train.date != \"null\") & \n",
    "                                  (off_train.date >= \"20160315\") & \n",
    "                                  (off_train.date <= \"20160630\"))]#线下3月15号到6月30号之间消费的样本（包括领取和未领取优惠券的样本）\n",
    "\n",
    "df_test_feat_online = on_train[((on_train.date_received != \"null\") & \n",
    "                                (on_train.date_received >= \"20160315\") & \n",
    "                                (on_train.date_received <= \"20160630\")) #线上3月15号到6月30号之间领取优惠券的样本\n",
    "                               | \n",
    "                               ((on_train.date != \"null\") & \n",
    "                                (on_train.date >= \"20160315\") & \n",
    "                                (on_train.date <= \"20160630\"))]#线上3月15号到6月30号之间消费的样本\n",
    "\n",
    "print('df_test.shape:', df_test.shape)\n",
    "\n",
    "###训练集_1数据\n",
    "df_train1 = off_train[(off_train.date_received != \"null\") & \n",
    "                      (off_train.date_received >= \"20160515\") & \n",
    "                      (off_train.date_received <= \"20160615\")]\n",
    "\n",
    "df_train1_feat_offline = off_train[((off_train.date_received != \"null\") & \n",
    "                                    (off_train.date_received >= \"20160201\") & \n",
    "                                    (off_train.date_received <= \"20160514\")) \n",
    "                                   | \n",
    "                                  ((off_train.date != \"null\") & \n",
    "                                   (off_train.date >= \"20160201\") & \n",
    "                                   (off_train.date <= \"20160514\"))]\n",
    "df_train1_feat_online = on_train[((on_train.date_received != \"null\") & \n",
    "                                  (on_train.date_received >= \"20160201\") & \n",
    "                                  (on_train.date_received <= \"20160514\")) \n",
    "                                 | \n",
    "                                ((on_train.date != \"null\") & \n",
    "                                 (on_train.date >= \"20160201\") & \n",
    "                                 (on_train.date <= \"20160514\"))]\n",
    "\n",
    "print('df_train1.shape:', df_train1.shape)\n",
    "\n",
    "###训练集_2数据\n",
    "df_train2 = off_train[(off_train.date_received != \"null\") & \n",
    "                      (off_train.date_received >= \"20160414\") & \n",
    "                      (off_train.date_received <= \"20160514\")]\n",
    "\n",
    "df_train2_feat_offline = off_train[((off_train.date_received != \"null\") & \n",
    "                                    (off_train.date_received >= \"20160101\") & \n",
    "                                    (off_train.date_received <= \"20160413\")) \n",
    "                                   | \n",
    "                                  ((off_train.date != \"null\") & \n",
    "                                   (off_train.date >= \"20160101\") & \n",
    "                                   (off_train.date <= \"20160413\"))]\n",
    "df_train2_feat_online = on_train[((on_train.date_received != \"null\") & \n",
    "                                  (on_train.date_received >= \"20160101\") & \n",
    "                                  (on_train.date_received <= \"20160413\")) \n",
    "                                 | \n",
    "                                ((on_train.date != \"null\") & \n",
    "                                 (on_train.date >= \"20160101\") & \n",
    "                                 (on_train.date <= \"20160413\"))]                                          \n",
    "\n",
    "print('df_train2.shape:', df_train2.shape)"
   ]
  },
  {
   "cell_type": "code",
   "execution_count": null,
   "metadata": {},
   "outputs": [],
   "source": []
  },
  {
   "cell_type": "code",
   "execution_count": null,
   "metadata": {},
   "outputs": [],
   "source": []
  },
  {
   "cell_type": "code",
   "execution_count": null,
   "metadata": {},
   "outputs": [],
   "source": []
  },
  {
   "cell_type": "code",
   "execution_count": null,
   "metadata": {},
   "outputs": [],
   "source": []
  },
  {
   "cell_type": "code",
   "execution_count": null,
   "metadata": {},
   "outputs": [],
   "source": []
  }
 ],
 "metadata": {
  "kernelspec": {
   "display_name": "Python [default]",
   "language": "python",
   "name": "python3"
  },
  "language_info": {
   "codemirror_mode": {
    "name": "ipython",
    "version": 3
   },
   "file_extension": ".py",
   "mimetype": "text/x-python",
   "name": "python",
   "nbconvert_exporter": "python",
   "pygments_lexer": "ipython3",
   "version": "3.6.4"
  }
 },
 "nbformat": 4,
 "nbformat_minor": 2
}
